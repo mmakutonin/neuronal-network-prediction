{
 "cells": [
  {
   "cell_type": "markdown",
   "metadata": {},
   "source": [
    "# Create Random Fish Dataset\n",
    "This notebook creates the mythical fish #r1 and #r2 by taking random neurons from other fish and coding them with random stimuli for a time interval of 2000 time points."
   ]
  },
  {
   "cell_type": "code",
   "execution_count": 1,
   "metadata": {},
   "outputs": [],
   "source": [
    "import numpy as np\n",
    "import pandas as pd\n",
    "import random\n",
    "import math\n",
    "from util_functions import load_file, pickle_file, starting_run, finished_run"
   ]
  },
  {
   "cell_type": "markdown",
   "metadata": {},
   "source": [
    "### Notebook Parameters:"
   ]
  },
  {
   "cell_type": "code",
   "execution_count": 2,
   "metadata": {},
   "outputs": [],
   "source": [
    "random.seed(10)\n",
    "data_raw_pickled_df = load_file('data_meta_pickled/data_raw_pickled_df.pickle')\n",
    "data_dir = 'data_raw_pickled/'\n",
    "\n",
    "#load all fish neuron data into dict for easy retrieval\n",
    "neuron_data_list = []\n",
    "for row in data_raw_pickled_df.itertuples():\n",
    "    neuron_data_list.append(load_file(row.rel_path))"
   ]
  },
  {
   "cell_type": "markdown",
   "metadata": {},
   "source": [
    "### Notebook Functions"
   ]
  },
  {
   "cell_type": "code",
   "execution_count": 3,
   "metadata": {},
   "outputs": [],
   "source": [
    "def create_cell_XYZ():\n",
    "    # note that for convenience, this was just copied from\n",
    "    # the first fish (to allow for a fish-like shape of the\n",
    "    # data set).\n",
    "    return load_file(data_raw_pickled_df.iat[0, 2].replace('CellRespZ', 'mat_dict'))[\"cell_XYZ\"]"
   ]
  },
  {
   "cell_type": "code",
   "execution_count": 4,
   "metadata": {},
   "outputs": [],
   "source": [
    "def generate_fish_stimuli():\n",
    "    stim_list = []\n",
    "    while(len(stim_list) < 3878):\n",
    "        stim_number = random.randint(0,23)\n",
    "        stim_duration = random.randint(1,100 if (3878-len(stim_list)) > 100 else (3878-len(stim_list)))\n",
    "        stim_list = np.append(stim_list, np.full(stim_duration, stim_number))\n",
    "    return stim_list.astype(np.int)"
   ]
  },
  {
   "cell_type": "code",
   "execution_count": 5,
   "metadata": {},
   "outputs": [],
   "source": [
    "def generate_fish_data(num_cells):\n",
    "    ret_list = []\n",
    "    cells_per_fish = num_cells / len(neuron_data_list)\n",
    "    for fish in neuron_data_list:\n",
    "        random.shuffle(fish)\n",
    "        neuron_data = fish[:, 0:math.floor(cells_per_fish)]\n",
    "        #to ensure that the neuron is 3878 time points long (the average among all real fish)\n",
    "        while(len(neuron_data) < 3878):\n",
    "            neuron_data = np.append(neuron_data, neuron_data, axis=0)\n",
    "        neuron_data = neuron_data[0:3878]\n",
    "        if len(ret_list) == 0:\n",
    "            ret_list=neuron_data\n",
    "        else:\n",
    "            ret_list = np.append(ret_list, neuron_data, axis=1)\n",
    "        random.shuffle(ret_list)\n",
    "        for row in ret_list:\n",
    "            random.shuffle(row)\n",
    "    return ret_list"
   ]
  },
  {
   "cell_type": "markdown",
   "metadata": {},
   "source": [
    "### Main Code Execution"
   ]
  },
  {
   "cell_type": "code",
   "execution_count": 6,
   "metadata": {},
   "outputs": [
    {
     "name": "stdout",
     "output_type": "stream",
     "text": [
      "Starting  19:48:26.286981\n",
      "Finished  21:04:32.921298\n"
     ]
    }
   ],
   "source": [
    "starting_run()\n",
    "for fish in [\"subject_r1\", \"subject_r2\"]:\n",
    "    # Create fish mat dict\n",
    "    mat_dict = {}\n",
    "    mat_dict[\"cell_XYZ\"] = create_cell_XYZ()\n",
    "    mat_dict[\"stim_full\"] = generate_fish_stimuli()\n",
    "    pickle_file(data_dir + fish + '_mat_dict.pickle', mat_dict)\n",
    "    \n",
    "    #Create fish neuron data\n",
    "    neuron_data = generate_fish_data(len(mat_dict[\"cell_XYZ\"]))\n",
    "    save_path = data_dir + fish + '_CellRespZ.pickle'\n",
    "    pickle_file(save_path, neuron_data)\n",
    "    data_raw_pickled_df.loc[fish] = [fish, None, save_path, neuron_data.shape, None]\n",
    "pickle_file('data_meta_pickled/data_raw_pickled_df.pickle', data_raw_pickled_df)\n",
    "finished_run()"
   ]
  },
  {
   "cell_type": "code",
   "execution_count": 7,
   "metadata": {},
   "outputs": [],
   "source": [
    "pickle_file('data_meta_pickled/data_raw_pickled_df.pickle', data_raw_pickled_df)"
   ]
  }
 ],
 "metadata": {
  "kernelspec": {
   "display_name": "Python 3",
   "language": "python",
   "name": "python3"
  },
  "language_info": {
   "codemirror_mode": {
    "name": "ipython",
    "version": 3
   },
   "file_extension": ".py",
   "mimetype": "text/x-python",
   "name": "python",
   "nbconvert_exporter": "python",
   "pygments_lexer": "ipython3",
   "version": "3.7.6"
  }
 },
 "nbformat": 4,
 "nbformat_minor": 4
}
