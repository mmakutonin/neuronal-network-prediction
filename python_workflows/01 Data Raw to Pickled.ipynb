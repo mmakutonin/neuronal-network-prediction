{
 "cells": [
  {
   "cell_type": "markdown",
   "metadata": {},
   "source": [
    "# Raw Data Pickling Function\n",
    "This code pickles raw data downloaded from [Chen et al](https://janelia.figshare.com/articles/Whole-brain_light-sheet_imaging_data/7272617) and converts them into Pandas, Numpy, and Python objects.\n",
    "\n",
    "To ensure function, load all raw data into [../data/data_raw_from_paper](../data/data_raw_from_paper)"
   ]
  },
  {
   "cell_type": "code",
   "execution_count": 1,
   "metadata": {},
   "outputs": [],
   "source": [
    "import pandas as pd\n",
    "import numpy as np\n",
    "import scipy.io as scio\n",
    "import h5py\n",
    "from util_functions import list_subjects, pickle_file, starting_run, finished_run"
   ]
  },
  {
   "cell_type": "markdown",
   "metadata": {},
   "source": [
    "### Notebook Parameters"
   ]
  },
  {
   "cell_type": "code",
   "execution_count": 2,
   "metadata": {},
   "outputs": [],
   "source": [
    "output_data_dir = 'data_raw_pickled/'\n",
    "data_raw_pickled_df = pd.DataFrame(columns=['subject', 'stimulus', 'rel_path', 'timepoints_count',  'timepoints'])"
   ]
  },
  {
   "cell_type": "markdown",
   "metadata": {},
   "source": [
    "### Notebook Functions"
   ]
  },
  {
   "cell_type": "code",
   "execution_count": 3,
   "metadata": {},
   "outputs": [],
   "source": [
    "def save_mat_data(path, subject):\n",
    "    mat = scio.loadmat(path)\n",
    "    mat_dict = {\n",
    "        \"periods\": mat['data'][0][0][0],\n",
    "        \"timelists_names\": mat['data'][0][0][1],\n",
    "        \"stimulus_key_raw\": mat['data'][0][0][2],\n",
    "        \"cell_XYZ\": mat['data'][0][0][3],\n",
    "        \"anat_stack\": mat['data'][0][0][4],\n",
    "        \"frame_per_sec\": mat['data'][0][0][5],\n",
    "        \"behavior_raw\": mat['data'][0][0][6],\n",
    "        \"num_cells\": mat['data'][0][0][7],\n",
    "        \"cell_XYZ_norm\": mat['data'][0][0][8],\n",
    "        \"IX_inval_anat\": mat['data'][0][0][9],\n",
    "        \"anat_yx\": mat['data'][0][0][10],\n",
    "        \"anat_yz\": mat['data'][0][0][11],\n",
    "        \"anat_xz\": mat['data'][0][0][12],\n",
    "        \"timelists\": mat['data'][0][0][13],\n",
    "        \"stim_full\": mat['data'][0][0][14],\n",
    "        \"stim_avr\": mat['data'][0][0][15],\n",
    "        \"behavior_full\": mat['data'][0][0][16],\n",
    "        \"behavior_avr\": mat['data'][0][0][17],\n",
    "#         \"behavior_full_motor\": mat['data'][0][0][18],\n",
    "#         \"behavior_avr_motor\": mat['data'][0][0][19],\n",
    "#         \"eye_full_motorseed\": mat['data'][0][0][20],\n",
    "#         \"eye_avr_motorseed\": mat['data'][0][0][21],\n",
    "#         \"eye_full\": mat['data'][0][0][22],\n",
    "#         \"eye_avr\": mat['data'][0][0][23]\n",
    "    }\n",
    "    pickle_file(output_data_dir + subject + '_mat_dict.pickle', mat_dict)"
   ]
  },
  {
   "cell_type": "code",
   "execution_count": 4,
   "metadata": {},
   "outputs": [],
   "source": [
    "def save_h5_data(path, subject):\n",
    "    f = h5py.File(path, 'r')\n",
    "    for key in f.keys():\n",
    "        save_path = output_data_dir + subject + '_' + key + '.pickle'\n",
    "        pickle_file(save_path, np.array(f[key]))\n",
    "        if key == 'CellRespZ':\n",
    "            data_raw_pickled_df.loc[subject] = [subject, None, save_path, np.array(f[key]).shape, None]"
   ]
  },
  {
   "cell_type": "code",
   "execution_count": 5,
   "metadata": {},
   "outputs": [
    {
     "name": "stdout",
     "output_type": "stream",
     "text": [
      "Starting save subject_1 16:11:43.568480\n",
      "Starting save subject_10 16:11:52.914547\n",
      "Starting save subject_12 16:12:07.243676\n",
      "Starting save subject_13 16:12:20.625531\n",
      "Starting save subject_14 16:12:33.534627\n",
      "Starting save subject_15 16:12:44.479386\n",
      "Starting save subject_16 16:12:53.924326\n",
      "Starting save subject_17 16:12:59.593224\n",
      "Starting save subject_18 16:13:14.778975\n",
      "Starting save subject_2 16:13:33.269163\n",
      "Starting save subject_3 16:13:43.491465\n",
      "Starting save subject_4 16:13:51.267467\n",
      "Starting save subject_5 16:14:00.912230\n",
      "Starting save subject_6 16:14:11.511444\n",
      "Starting save subject_7 16:14:23.712471\n",
      "Finished saving raw data 16:14:30.591768\n"
     ]
    }
   ],
   "source": [
    "for subject in list_subjects():\n",
    "    subject_input_path = '../data/data_raw_from_paper/'+subject+'/'+subject\n",
    "    starting_run('save ' + subject)\n",
    "    save_mat_data(subject_input_path + '/data_full.mat', subject)\n",
    "    save_h5_data(subject_input_path + '/TimeSeries.h5', subject)\n",
    "finished_run('saving raw data')\n",
    "pickle_file('data_meta_pickled/data_raw_pickled_df.pickle', data_raw_pickled_df)"
   ]
  }
 ],
 "metadata": {
  "kernelspec": {
   "display_name": "Python 3",
   "language": "python",
   "name": "python3"
  },
  "language_info": {
   "codemirror_mode": {
    "name": "ipython",
    "version": 3
   },
   "file_extension": ".py",
   "mimetype": "text/x-python",
   "name": "python",
   "nbconvert_exporter": "python",
   "pygments_lexer": "ipython3",
   "version": "3.7.6"
  }
 },
 "nbformat": 4,
 "nbformat_minor": 2
}
