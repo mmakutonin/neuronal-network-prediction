{
 "cells": [
  {
   "cell_type": "markdown",
   "metadata": {},
   "source": [
    "# Raw Data Pickling Function\n",
    "This code pickles raw data downloaded from [Chen et al](https://janelia.figshare.com/articles/Whole-brain_light-sheet_imaging_data/7272617) and converts them into Pandas, Numpy, and Python objects.\n",
    "\n",
    "To ensure function, load all raw data into [../data/data_raw_from_paper](../data/data_raw_from_paper). Also, make sure that all single-digit subject folders (ie subject_1) are changed into double-digit folders (ie subject_01)."
   ]
  },
  {
   "cell_type": "code",
   "execution_count": 1,
   "metadata": {},
   "outputs": [],
   "source": [
    "import pandas as pd\n",
    "import numpy as np\n",
    "import scipy.io as scio\n",
    "import h5py\n",
    "from util_functions import list_subjects, pickle_file, starting_run, finished_run"
   ]
  },
  {
   "cell_type": "markdown",
   "metadata": {},
   "source": [
    "### Notebook Parameters"
   ]
  },
  {
   "cell_type": "code",
   "execution_count": 2,
   "metadata": {},
   "outputs": [],
   "source": [
    "output_data_dir = 'data_raw_pickled/'\n",
    "data_raw_pickled_df = pd.DataFrame(columns=['subject', 'stimulus', 'rel_path', 'timepoints_count',  'timepoints'])"
   ]
  },
  {
   "cell_type": "markdown",
   "metadata": {},
   "source": [
    "### Notebook Functions"
   ]
  },
  {
   "cell_type": "code",
   "execution_count": 3,
   "metadata": {},
   "outputs": [],
   "source": [
    "def save_mat_data(path, subject):\n",
    "    mat = scio.loadmat(path)\n",
    "    mat_dict = {\n",
    "        \"cell_XYZ\": mat['data'][0][0][3],\n",
    "        \"stim_full\": mat['data'][0][0][14][0]\n",
    "    }\n",
    "    pickle_file(output_data_dir + subject + '_mat_dict.pickle', mat_dict)"
   ]
  },
  {
   "cell_type": "code",
   "execution_count": 4,
   "metadata": {},
   "outputs": [],
   "source": [
    "def save_h5_data(path, subject):\n",
    "    f = h5py.File(path, 'r')\n",
    "    for key in f.keys():\n",
    "        save_path = output_data_dir + subject + '_' + key + '.pickle'\n",
    "        pickle_file(save_path, np.array(f[key]))\n",
    "        if key == 'CellRespZ':\n",
    "            data_raw_pickled_df.loc[subject] = [subject, None, save_path, np.array(f[key]).shape[0], None]"
   ]
  },
  {
   "cell_type": "code",
   "execution_count": 5,
   "metadata": {
    "scrolled": true
   },
   "outputs": [
    {
     "name": "stdout",
     "output_type": "stream",
     "text": [
      "Starting save subject_01 20:16:38.918438\n",
      "Starting save subject_02 20:16:49.482354\n",
      "Starting save subject_03 20:17:00.972249\n",
      "Starting save subject_04 20:17:09.642639\n",
      "Starting save subject_05 20:17:20.325889\n",
      "Starting save subject_06 20:17:32.167726\n",
      "Starting save subject_07 20:17:45.036303\n",
      "Starting save subject_10 20:17:51.388923\n",
      "Starting save subject_12 20:18:07.438592\n",
      "Starting save subject_13 20:18:21.811426\n",
      "Starting save subject_14 20:18:36.458737\n",
      "Starting save subject_15 20:18:50.093715\n",
      "Starting save subject_16 20:19:01.447278\n",
      "Starting save subject_17 20:19:07.983831\n",
      "Starting save subject_18 20:19:24.142043\n",
      "Finished saving raw data 20:19:40.951216\n"
     ]
    }
   ],
   "source": [
    "for subject in list_subjects():\n",
    "    subject_input_path = '../data/data_raw_from_paper/'+subject+'/'+subject\n",
    "    starting_run('save ' + subject)\n",
    "    save_mat_data(subject_input_path + '/data_full.mat', subject)\n",
    "    save_h5_data(subject_input_path + '/TimeSeries.h5', subject)\n",
    "finished_run('saving raw data')\n",
    "pickle_file('data_meta_pickled/data_raw_pickled_df.pickle', data_raw_pickled_df)"
   ]
  }
 ],
 "metadata": {
  "kernelspec": {
   "display_name": "Python 3",
   "language": "python",
   "name": "python3"
  },
  "language_info": {
   "codemirror_mode": {
    "name": "ipython",
    "version": 3
   },
   "file_extension": ".py",
   "mimetype": "text/x-python",
   "name": "python",
   "nbconvert_exporter": "python",
   "pygments_lexer": "ipython3",
   "version": "3.7.6"
  }
 },
 "nbformat": 4,
 "nbformat_minor": 2
}
