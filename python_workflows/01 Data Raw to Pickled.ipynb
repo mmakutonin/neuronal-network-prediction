{
 "cells": [
  {
   "cell_type": "markdown",
   "metadata": {},
   "source": [
    "# Raw Data Pickling Function\n",
    "This code pickles raw data downloaded from [Chen et al](https://janelia.figshare.com/articles/Whole-brain_light-sheet_imaging_data/7272617) and converts them into Pandas, Numpy, and Python objects.\n",
    "\n",
    "To ensure function, load all raw data into [../data/data_raw_from_paper](../data/data_raw_from_paper). Also, make sure that all single-digit subject folders (ie subject_1) are changed into double-digit folders (ie subject_01)."
   ]
  },
  {
   "cell_type": "code",
   "execution_count": 1,
   "metadata": {},
   "outputs": [],
   "source": [
    "import pandas as pd\n",
    "import numpy as np\n",
    "import scipy.io as scio\n",
    "import h5py\n",
    "from util_functions import list_subjects, pickle_file, starting_run, finished_run"
   ]
  },
  {
   "cell_type": "markdown",
   "metadata": {},
   "source": [
    "### Notebook Parameters"
   ]
  },
  {
   "cell_type": "code",
   "execution_count": 2,
   "metadata": {},
   "outputs": [],
   "source": [
    "output_data_dir = 'data_raw_pickled/'\n",
    "data_raw_pickled_df = pd.DataFrame(columns=['subject', 'stimulus', 'rel_path', 'timepoints_count',  'timepoints'])"
   ]
  },
  {
   "cell_type": "markdown",
   "metadata": {},
   "source": [
    "### Notebook Functions"
   ]
  },
  {
   "cell_type": "code",
   "execution_count": 3,
   "metadata": {},
   "outputs": [],
   "source": [
    "def save_mat_data(path, subject):\n",
    "    mat = scio.loadmat(path)\n",
    "    mat_dict = {\n",
    "        \"cell_XYZ\": mat['data'][0][0][3],\n",
    "        \"stim_full\": mat['data'][0][0][14][0]\n",
    "    }\n",
    "    pickle_file(output_data_dir + subject + '_mat_dict.pickle', mat_dict)"
   ]
  },
  {
   "cell_type": "code",
   "execution_count": 4,
   "metadata": {},
   "outputs": [],
   "source": [
    "def save_h5_data(path, subject):\n",
    "    f = h5py.File(path, 'r')\n",
    "    for key in f.keys():\n",
    "        save_path = output_data_dir + subject + '_' + key + '.pickle'\n",
    "        pickle_file(save_path, np.array(f[key]))\n",
    "        if key == 'CellRespZ':\n",
    "            data_raw_pickled_df.loc[subject] = [subject, None, save_path, np.array(f[key]).shape[0], None]"
   ]
  },
  {
   "cell_type": "code",
   "execution_count": 5,
   "metadata": {
    "scrolled": true
   },
   "outputs": [
    {
     "name": "stdout",
     "output_type": "stream",
     "text": [
      "Starting save subject_01 19:44:56.750762\n",
      "Starting save subject_02 19:45:06.547559\n",
      "Starting save subject_03 19:45:16.986640\n",
      "Starting save subject_04 19:45:25.142903\n",
      "Starting save subject_05 19:45:35.758104\n",
      "Starting save subject_06 19:45:47.442889\n",
      "Starting save subject_07 19:46:01.112475\n",
      "Starting save subject_10 19:46:07.394776\n",
      "Starting save subject_12 19:46:22.249176\n",
      "Starting save subject_13 19:46:36.918992\n",
      "Starting save subject_14 19:46:50.776938\n",
      "Starting save subject_15 19:47:02.487584\n",
      "Starting save subject_16 19:47:13.292685\n",
      "Starting save subject_17 19:47:19.488115\n",
      "Starting save subject_18 19:47:33.754053\n",
      "Finished saving raw data 19:47:49.736309\n"
     ]
    }
   ],
   "source": [
    "for subject in list_subjects():\n",
    "    subject_input_path = '../data/data_raw_from_paper/'+subject+'/'+subject\n",
    "    starting_run('save ' + subject)\n",
    "    save_mat_data(subject_input_path + '/data_full.mat', subject)\n",
    "    save_h5_data(subject_input_path + '/TimeSeries.h5', subject)\n",
    "finished_run('saving raw data')\n",
    "pickle_file('data_meta_pickled/data_raw_pickled_df.pickle', data_raw_pickled_df)"
   ]
  }
 ],
 "metadata": {
  "kernelspec": {
   "display_name": "Python 3",
   "language": "python",
   "name": "python3"
  },
  "language_info": {
   "codemirror_mode": {
    "name": "ipython",
    "version": 3
   },
   "file_extension": ".py",
   "mimetype": "text/x-python",
   "name": "python",
   "nbconvert_exporter": "python",
   "pygments_lexer": "ipython3",
   "version": "3.7.6"
  }
 },
 "nbformat": 4,
 "nbformat_minor": 2
}
