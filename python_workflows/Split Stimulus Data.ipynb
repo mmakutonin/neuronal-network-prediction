{
 "cells": [
  {
   "cell_type": "markdown",
   "metadata": {},
   "source": [
    "## Split Stimulus Data\n",
    "This workflow splits the original pickled CellRespZ timeseries into dataseries corresponding to the stimuli applied"
   ]
  },
  {
   "cell_type": "code",
   "execution_count": 1,
   "metadata": {},
   "outputs": [],
   "source": [
    "import os\n",
    "import pickle\n",
    "import numpy as np"
   ]
  },
  {
   "cell_type": "code",
   "execution_count": 2,
   "metadata": {
    "scrolled": true
   },
   "outputs": [
    {
     "data": {
      "text/plain": [
       "['subject_1',\n",
       " 'subject_10',\n",
       " 'subject_12',\n",
       " 'subject_13',\n",
       " 'subject_14',\n",
       " 'subject_15',\n",
       " 'subject_16',\n",
       " 'subject_17',\n",
       " 'subject_2',\n",
       " 'subject_3',\n",
       " 'subject_4',\n",
       " 'subject_5',\n",
       " 'subject_6',\n",
       " 'subject_7']"
      ]
     },
     "execution_count": 2,
     "metadata": {},
     "output_type": "execute_result"
    }
   ],
   "source": [
    "data_dir = '../data/data_raw_pickled/'\n",
    "with open('../data/data_meta_pickled/subject_array.pickle', \"rb\") as input_file:\n",
    "    subject_array = pickle.load(input_file)\n",
    "subject_array"
   ]
  },
  {
   "cell_type": "code",
   "execution_count": 3,
   "metadata": {},
   "outputs": [],
   "source": [
    "def load_subject_data(subject):\n",
    "    with open(data_dir + subject + '_CellRespZ.pickle', \"rb\") as input_file:\n",
    "        timeseries = pickle.load(input_file)\n",
    "    with open(data_dir + subject + '_mat_dict.pickle', \"rb\") as input_file:\n",
    "        mat = pickle.load(input_file)\n",
    "        stim_shape = np.unique(mat['stim_full'], return_counts=True)\n",
    "    return timeseries, stim_shape"
   ]
  },
  {
   "cell_type": "markdown",
   "metadata": {},
   "source": [
    "### Data Exploration:"
   ]
  },
  {
   "cell_type": "code",
   "execution_count": 4,
   "metadata": {},
   "outputs": [
    {
     "name": "stdout",
     "output_type": "stream",
     "text": [
      "subject_1  timeseries:  (2880, 83205)\n",
      "subject_1  stimulus full  (array([0, 1, 2, 3], dtype=uint8), array([720, 720, 720, 720], dtype=int64))\n",
      "subject_10  timeseries:  (4426, 83396)\n",
      "subject_10  stimulus full  (array([ 0,  1,  2,  3,  4,  9, 10, 11, 12, 13, 14, 15, 16, 21, 22, 23],\n",
      "      dtype=uint8), array([204, 300, 300, 780, 720, 630, 220, 220, 220, 202,  40,  40,  50,\n",
      "       150, 150, 200], dtype=int64))\n",
      "subject_12  timeseries:  (6140, 58105)\n",
      "subject_12  stimulus full  (array([ 0,  1,  2,  3,  4,  9, 10, 11, 12, 14, 15], dtype=uint8), array([ 500,  800,  800, 2750,  640,  150,  150,  150,  150,   25,   25],\n",
      "      dtype=int64))\n",
      "subject_13  timeseries:  (4840, 73202)\n",
      "subject_13  stimulus full  (array([ 0,  1,  2,  3,  4,  9, 10, 11, 12, 14, 15], dtype=uint8), array([ 270,  440,  440, 2090, 1200,   50,   50,   50,   50,  100,  100],\n",
      "      dtype=int64))\n",
      "subject_14  timeseries:  (3890, 72412)\n",
      "subject_14  stimulus full  (array([ 0,  1,  2,  3,  4,  9, 10, 11, 12, 14, 15], dtype=uint8), array([ 175,  640,  640, 1735,  500,   30,   30,   30,   30,   40,   40],\n",
      "      dtype=int64))\n",
      "subject_15  timeseries:  (4880, 53180)\n",
      "subject_15  stimulus full  (array([ 0,  1,  2,  3,  4,  9, 10, 11, 12, 14, 15], dtype=uint8), array([ 330,  725,  725, 1440,  600,  240,  240,  240,  240,   50,   50],\n",
      "      dtype=int64))\n",
      "subject_16  timeseries:  (1877, 62737)\n",
      "subject_16  stimulus full  (array([ 1,  2,  3,  4,  9, 10, 11, 12], dtype=uint8), array([300, 300, 440, 517,  80,  80,  80,  80], dtype=int64))\n",
      "subject_17  timeseries:  (5554, 63922)\n",
      "subject_17  stimulus full  (array([ 0,  1,  2,  3,  4,  9, 10, 11, 12, 14, 15], dtype=uint8), array([ 352,  783,  783, 1968,  800,  192,  192,  192,  192,   50,   50],\n",
      "      dtype=int64))\n",
      "subject_2  timeseries:  (3520, 82514)\n",
      "subject_2  stimulus full  (array([0, 1, 2, 3], dtype=uint8), array([880, 880, 880, 880], dtype=int64))\n",
      "subject_3  timeseries:  (2560, 83662)\n",
      "subject_3  stimulus full  (array([0, 1, 2, 3], dtype=uint8), array([640, 640, 640, 640], dtype=int64))\n",
      "subject_4  timeseries:  (2880, 90034)\n",
      "subject_4  stimulus full  (array([0, 1, 2, 3], dtype=uint8), array([720, 720, 720, 720], dtype=int64))\n",
      "subject_5  timeseries:  (2880, 97766)\n",
      "subject_5  stimulus full  (array([0, 1, 2, 3], dtype=uint8), array([720, 720, 720, 720], dtype=int64))\n",
      "subject_6  timeseries:  (3780, 92538)\n",
      "subject_6  stimulus full  (array([1, 2, 3], dtype=uint8), array([1080, 1080, 1620], dtype=int64))\n",
      "subject_7  timeseries:  (1650, 93810)\n",
      "subject_7  stimulus full  (array([1, 2, 3], dtype=uint8), array([550, 550, 550], dtype=int64))\n"
     ]
    }
   ],
   "source": [
    "for subject in subject_array:\n",
    "    timeseries, stim_shape = load_subject_data(subject)\n",
    "    print(subject, ' timeseries: ', timeseries.shape)\n",
    "    print(subject, ' stimulus full ', stim_shape)"
   ]
  }
 ],
 "metadata": {
  "kernelspec": {
   "display_name": "Python 3",
   "language": "python",
   "name": "python3"
  },
  "language_info": {
   "codemirror_mode": {
    "name": "ipython",
    "version": 3
   },
   "file_extension": ".py",
   "mimetype": "text/x-python",
   "name": "python",
   "nbconvert_exporter": "python",
   "pygments_lexer": "ipython3",
   "version": "3.7.4"
  }
 },
 "nbformat": 4,
 "nbformat_minor": 2
}
