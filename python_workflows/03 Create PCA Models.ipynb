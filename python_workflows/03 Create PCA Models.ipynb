{
 "cells": [
  {
   "cell_type": "markdown",
   "metadata": {},
   "source": [
    "# Create PCA Models:\n",
    "This code creates PCA models from which components and loadings can be extracted."
   ]
  },
  {
   "cell_type": "code",
   "execution_count": 1,
   "metadata": {},
   "outputs": [],
   "source": [
    "from sklearn.decomposition import PCA\n",
    "import pandas as pd\n",
    "from util_functions import load_file, pickle_file"
   ]
  },
  {
   "cell_type": "markdown",
   "metadata": {},
   "source": [
    "### Notebook Parameters"
   ]
  },
  {
   "cell_type": "code",
   "execution_count": 2,
   "metadata": {},
   "outputs": [],
   "source": [
    "input_data_dir = 'data_raw_pickled/'\n",
    "output_data_dir = 'pca_models_pickled/'\n",
    "data_raw_pickled_df = load_file('data_meta_pickled/data_raw_pickled_df.pickle')\n",
    "n_components = 10\n",
    "model_df = pd.DataFrame(columns=['subject', 'stimulus', 'model_path', 'orig_data_path', 'n_components', 'sum_explained_variance'])"
   ]
  },
  {
   "cell_type": "markdown",
   "metadata": {},
   "source": [
    "### Notebook Functions"
   ]
  },
  {
   "cell_type": "code",
   "execution_count": 3,
   "metadata": {},
   "outputs": [],
   "source": [
    "def create_model(n_components, data):\n",
    "    pca_model = PCA(n_components=n_components, random_state=10)\n",
    "    pca_model.fit(data)\n",
    "    return pca_model, pca_model.explained_variance_ratio_.sum()"
   ]
  },
  {
   "cell_type": "markdown",
   "metadata": {},
   "source": [
    "### Main Code Execution"
   ]
  },
  {
   "cell_type": "code",
   "execution_count": 4,
   "metadata": {},
   "outputs": [],
   "source": [
    "# n_component_array = [10]\n",
    "# for n_components in n_component_array:\n",
    "for row in data_raw_pickled_df.itertuples():\n",
    "    data_file = load_file(row.rel_path)\n",
    "    n_components = min(min(data_file.shape), n_components)\n",
    "    model, sum_explained_variance = create_model(n_components, data_file)\n",
    "    stimulus_string = '_stimulus_' + row.stimulus if row.stimulus != None else ''\n",
    "    save_path = output_data_dir + row.subject + stimulus_string + '_PCA_model_num_comp_' + str(n_components) + '.pickle'\n",
    "    pickle_file(save_path, model)\n",
    "    model_df.loc[row.subject + stimulus_string] = [row.subject, row.stimulus, save_path, row.rel_path, n_components, sum_explained_variance]\n",
    "pickle_file('data_meta_pickled/pca_models_pickled_df.pickle', model_df)"
   ]
  }
 ],
 "metadata": {
  "kernelspec": {
   "display_name": "Python 3",
   "language": "python",
   "name": "python3"
  },
  "language_info": {
   "codemirror_mode": {
    "name": "ipython",
    "version": 3
   },
   "file_extension": ".py",
   "mimetype": "text/x-python",
   "name": "python",
   "nbconvert_exporter": "python",
   "pygments_lexer": "ipython3",
   "version": "3.7.6"
  }
 },
 "nbformat": 4,
 "nbformat_minor": 2
}
