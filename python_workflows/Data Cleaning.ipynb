{
 "cells": [
  {
   "cell_type": "code",
   "execution_count": 1,
   "metadata": {},
   "outputs": [],
   "source": [
    "import os\n",
    "import pandas as pd\n",
    "import numpy as np\n",
    "import scipy.io as scio\n",
    "import h5py\n",
    "import pickle\n",
    "from datetime import datetime"
   ]
  },
  {
   "cell_type": "code",
   "execution_count": 2,
   "metadata": {},
   "outputs": [],
   "source": [
    "data_dir = '../data/'\n",
    "input_data_dir = data_dir + 'data_raw_from_paper/'\n",
    "output_data_dir = data_dir + 'data_raw_pickled/'"
   ]
  },
  {
   "cell_type": "code",
   "execution_count": 3,
   "metadata": {},
   "outputs": [],
   "source": [
    "def save_mat_data(path, subject):\n",
    "    mat = scio.loadmat(path)\n",
    "    mat_dict = {\n",
    "        \"periods\": mat['data'][0][0][0],\n",
    "        \"timelists_names\": mat['data'][0][0][1],\n",
    "        \"stimuluskey_raw\": mat['data'][0][0][2],\n",
    "        \"cell_XYZ\": mat['data'][0][0][3],\n",
    "        \"anat_stack\": mat['data'][0][0][4],\n",
    "        \"frame_per_sec\": mat['data'][0][0][5],\n",
    "        \"behavior_raw\": mat['data'][0][0][6],\n",
    "        \"num_cells\": mat['data'][0][0][7],\n",
    "        \"cell_XYZ_norm\": mat['data'][0][0][8],\n",
    "        \"IX_inval_anat\": mat['data'][0][0][9],\n",
    "        \"anat_yx\": mat['data'][0][0][10],\n",
    "        \"anat_yz\": mat['data'][0][0][11],\n",
    "        \"anat_xz\": mat['data'][0][0][12],\n",
    "        \"timelists\": mat['data'][0][0][13],\n",
    "        \"stim_full\": mat['data'][0][0][14],\n",
    "        \"stim_avr\": mat['data'][0][0][15],\n",
    "        \"behavior_full\": mat['data'][0][0][16],\n",
    "        \"behavior_avr\": mat['data'][0][0][17],\n",
    "        \"behavior_full_motor\": mat['data'][0][0][18],\n",
    "        \"behavior_avr_motor\": mat['data'][0][0][19],\n",
    "        \"eye_full_motorseed\": mat['data'][0][0][20],\n",
    "        \"eye_avr_motorseed\": mat['data'][0][0][21],\n",
    "        \"eye_full\": mat['data'][0][0][22],\n",
    "        \"eye_avr\": mat['data'][0][0][23]\n",
    "    }\n",
    "    with open(output_data_dir + subject + '_mat_dict.pickle', 'wb') as pickle_file:\n",
    "        pickle.dump(mat_dict, pickle_file, protocol=pickle.HIGHEST_PROTOCOL)"
   ]
  },
  {
   "cell_type": "code",
   "execution_count": 4,
   "metadata": {},
   "outputs": [],
   "source": [
    "def save_h5_data(path, subject):\n",
    "    f = h5py.File(path, 'r')\n",
    "    for key in f.keys():\n",
    "        print('Saving ', key, ' in .h5 file: ', datetime.now().time())\n",
    "        with open(output_data_dir + subject + '_' + key + '.pickle', 'wb') as pickle_file:\n",
    "            pickle.dump(pd.DataFrame(np.array(f[key])), pickle_file, protocol=pickle.HIGHEST_PROTOCOL)"
   ]
  },
  {
   "cell_type": "code",
   "execution_count": 5,
   "metadata": {},
   "outputs": [
    {
     "name": "stdout",
     "output_type": "stream",
     "text": [
      "Starting to save  subject_6 :  16:57:54.085091\n",
      "Finished saving .mat, starting .h5 files:  16:57:57.655957\n",
      "Saving  CellResp  in .h5 file:  16:57:57.665020\n",
      "Saving  CellRespAvr  in .h5 file:  16:58:12.824868\n",
      "Saving  CellRespAvrZ  in .h5 file:  16:58:13.785227\n",
      "Saving  CellRespZ  in .h5 file:  16:58:14.249351\n",
      "Saving  absIX  in .h5 file:  16:58:34.736420\n",
      "Finished saving all files:  16:58:34.784283\n"
     ]
    }
   ],
   "source": [
    "for subject in os.listdir(path = input_data_dir):\n",
    "    print('Starting to save ', subject, ': ', datetime.now().time())\n",
    "    save_mat_data(input_data_dir + subject + '/data_full.mat', subject)\n",
    "    print('Finished saving .mat, starting .h5 files: ', datetime.now().time())\n",
    "    save_h5_data(input_data_dir + subject + '/TimeSeries.h5', subject)\n",
    "    print('Finished saving all files: ', datetime.now().time())"
   ]
  }
 ],
 "metadata": {
  "kernelspec": {
   "display_name": "Python 3",
   "language": "python",
   "name": "python3"
  },
  "language_info": {
   "codemirror_mode": {
    "name": "ipython",
    "version": 3
   },
   "file_extension": ".py",
   "mimetype": "text/x-python",
   "name": "python",
   "nbconvert_exporter": "python",
   "pygments_lexer": "ipython3",
   "version": "3.6.9"
  }
 },
 "nbformat": 4,
 "nbformat_minor": 2
}
