{
 "cells": [
  {
   "cell_type": "markdown",
   "metadata": {},
   "source": [
    "## Split Stimulus Data\n",
    "This workflow splits the original pickled normalized (CellRespZ) neurronal activity timeseries into timeseries corresponding to the stimuli applied"
   ]
  },
  {
   "cell_type": "code",
   "execution_count": 1,
   "metadata": {},
   "outputs": [],
   "source": [
    "import numpy as np\n",
    "import pandas as pd\n",
    "from util_functions import list_subjects, load_file, pickle_file, starting_run, finished_run"
   ]
  },
  {
   "cell_type": "markdown",
   "metadata": {},
   "source": [
    "### Notebook Parameters:"
   ]
  },
  {
   "cell_type": "code",
   "execution_count": 2,
   "metadata": {
    "scrolled": true
   },
   "outputs": [],
   "source": [
    "data_raw_pickled_df = load_file('data_meta_pickled/data_raw_pickled_df.pickle')\n",
    "data_dir = 'data_raw_pickled/'"
   ]
  },
  {
   "cell_type": "markdown",
   "metadata": {},
   "source": [
    "### Notebook Functions"
   ]
  },
  {
   "cell_type": "code",
   "execution_count": 3,
   "metadata": {},
   "outputs": [],
   "source": [
    "def load_subject_data(subject_path):\n",
    "    timeseries = load_file(subject_path)\n",
    "    stimulus = load_file(subject_path.replace('CellRespZ', 'mat_dict'))['stim_full']\n",
    "    return timeseries, stimulus, np.unique(stimulus)"
   ]
  },
  {
   "cell_type": "code",
   "execution_count": 4,
   "metadata": {},
   "outputs": [],
   "source": [
    "def create_data_df(timeseries, stimulus_timeseries):\n",
    "    df = pd.DataFrame(timeseries)\n",
    "    df['stimulus'] = np.resize(stimulus_timeseries, (stimulus_timeseries.size,1))\n",
    "    return df"
   ]
  },
  {
   "cell_type": "code",
   "execution_count": 5,
   "metadata": {},
   "outputs": [],
   "source": [
    "def extract_stimulus_data(df_full, stimulus):\n",
    "    stim_data = df_full.loc[df_full['stimulus'] == stimulus]\n",
    "    del stim_data['stimulus']\n",
    "    return stim_data"
   ]
  },
  {
   "cell_type": "code",
   "execution_count": 6,
   "metadata": {},
   "outputs": [],
   "source": [
    "def save_stim_data(subject, stimulus, data, data_raw_pickled_df):\n",
    "    stimulus = str(stimulus)\n",
    "    save_path = data_dir + subject + '_stimulus_' + stimulus + '_CellRespZ.pickle'\n",
    "    data_raw_pickled_df.loc[subject + stimulus] = [subject, stimulus, save_path, data.shape[0], data.index]\n",
    "    print('Saving ', subject, ' Stimulus ', stimulus)\n",
    "    pickle_file(save_path, data.to_numpy())"
   ]
  },
  {
   "cell_type": "markdown",
   "metadata": {},
   "source": [
    "### Main Code Execution"
   ]
  },
  {
   "cell_type": "code",
   "execution_count": 7,
   "metadata": {
    "scrolled": true
   },
   "outputs": [
    {
     "name": "stdout",
     "output_type": "stream",
     "text": [
      "Starting  21:31:27.078593\n",
      "Saving  subject_01  Stimulus  0\n",
      "Saving  subject_01  Stimulus  1\n",
      "Saving  subject_01  Stimulus  2\n",
      "Saving  subject_01  Stimulus  3\n",
      "Saving  subject_02  Stimulus  0\n",
      "Saving  subject_02  Stimulus  1\n",
      "Saving  subject_02  Stimulus  2\n",
      "Saving  subject_02  Stimulus  3\n",
      "Saving  subject_03  Stimulus  0\n",
      "Saving  subject_03  Stimulus  1\n",
      "Saving  subject_03  Stimulus  2\n",
      "Saving  subject_03  Stimulus  3\n",
      "Saving  subject_04  Stimulus  0\n",
      "Saving  subject_04  Stimulus  1\n",
      "Saving  subject_04  Stimulus  2\n",
      "Saving  subject_04  Stimulus  3\n",
      "Saving  subject_05  Stimulus  0\n",
      "Saving  subject_05  Stimulus  1\n",
      "Saving  subject_05  Stimulus  2\n",
      "Saving  subject_05  Stimulus  3\n",
      "Saving  subject_06  Stimulus  1\n",
      "Saving  subject_06  Stimulus  2\n",
      "Saving  subject_06  Stimulus  3\n",
      "Saving  subject_07  Stimulus  1\n",
      "Saving  subject_07  Stimulus  2\n",
      "Saving  subject_07  Stimulus  3\n",
      "Saving  subject_10  Stimulus  0\n",
      "Saving  subject_10  Stimulus  1\n",
      "Saving  subject_10  Stimulus  2\n",
      "Saving  subject_10  Stimulus  3\n",
      "Saving  subject_10  Stimulus  4\n",
      "Saving  subject_10  Stimulus  9\n",
      "Saving  subject_10  Stimulus  10\n",
      "Saving  subject_10  Stimulus  11\n",
      "Saving  subject_10  Stimulus  12\n",
      "Saving  subject_10  Stimulus  13\n",
      "Saving  subject_10  Stimulus  14\n",
      "Saving  subject_10  Stimulus  15\n",
      "Saving  subject_10  Stimulus  16\n",
      "Saving  subject_10  Stimulus  21\n",
      "Saving  subject_10  Stimulus  22\n",
      "Saving  subject_10  Stimulus  23\n",
      "Saving  subject_12  Stimulus  0\n",
      "Saving  subject_12  Stimulus  1\n",
      "Saving  subject_12  Stimulus  2\n",
      "Saving  subject_12  Stimulus  3\n",
      "Saving  subject_12  Stimulus  4\n",
      "Saving  subject_12  Stimulus  9\n",
      "Saving  subject_12  Stimulus  10\n",
      "Saving  subject_12  Stimulus  11\n",
      "Saving  subject_12  Stimulus  12\n",
      "Saving  subject_12  Stimulus  14\n",
      "Saving  subject_12  Stimulus  15\n",
      "Saving  subject_13  Stimulus  0\n",
      "Saving  subject_13  Stimulus  1\n",
      "Saving  subject_13  Stimulus  2\n",
      "Saving  subject_13  Stimulus  3\n",
      "Saving  subject_13  Stimulus  4\n",
      "Saving  subject_13  Stimulus  9\n",
      "Saving  subject_13  Stimulus  10\n",
      "Saving  subject_13  Stimulus  11\n",
      "Saving  subject_13  Stimulus  12\n",
      "Saving  subject_13  Stimulus  14\n",
      "Saving  subject_13  Stimulus  15\n",
      "Saving  subject_14  Stimulus  0\n",
      "Saving  subject_14  Stimulus  1\n",
      "Saving  subject_14  Stimulus  2\n",
      "Saving  subject_14  Stimulus  3\n",
      "Saving  subject_14  Stimulus  4\n",
      "Saving  subject_14  Stimulus  9\n",
      "Saving  subject_14  Stimulus  10\n",
      "Saving  subject_14  Stimulus  11\n",
      "Saving  subject_14  Stimulus  12\n",
      "Saving  subject_14  Stimulus  14\n",
      "Saving  subject_14  Stimulus  15\n",
      "Saving  subject_15  Stimulus  0\n",
      "Saving  subject_15  Stimulus  1\n",
      "Saving  subject_15  Stimulus  2\n",
      "Saving  subject_15  Stimulus  3\n",
      "Saving  subject_15  Stimulus  4\n",
      "Saving  subject_15  Stimulus  9\n",
      "Saving  subject_15  Stimulus  10\n",
      "Saving  subject_15  Stimulus  11\n",
      "Saving  subject_15  Stimulus  12\n",
      "Saving  subject_15  Stimulus  14\n",
      "Saving  subject_15  Stimulus  15\n",
      "Saving  subject_16  Stimulus  1\n",
      "Saving  subject_16  Stimulus  2\n",
      "Saving  subject_16  Stimulus  3\n",
      "Saving  subject_16  Stimulus  4\n",
      "Saving  subject_16  Stimulus  9\n",
      "Saving  subject_16  Stimulus  10\n",
      "Saving  subject_16  Stimulus  11\n",
      "Saving  subject_16  Stimulus  12\n",
      "Saving  subject_17  Stimulus  0\n",
      "Saving  subject_17  Stimulus  1\n",
      "Saving  subject_17  Stimulus  2\n",
      "Saving  subject_17  Stimulus  3\n",
      "Saving  subject_17  Stimulus  4\n",
      "Saving  subject_17  Stimulus  9\n",
      "Saving  subject_17  Stimulus  10\n",
      "Saving  subject_17  Stimulus  11\n",
      "Saving  subject_17  Stimulus  12\n",
      "Saving  subject_17  Stimulus  14\n",
      "Saving  subject_17  Stimulus  15\n",
      "Saving  subject_18  Stimulus  0\n",
      "Saving  subject_18  Stimulus  1\n",
      "Saving  subject_18  Stimulus  2\n",
      "Saving  subject_18  Stimulus  3\n",
      "Saving  subject_18  Stimulus  4\n",
      "Saving  subject_18  Stimulus  9\n",
      "Saving  subject_18  Stimulus  10\n",
      "Saving  subject_18  Stimulus  11\n",
      "Saving  subject_18  Stimulus  12\n",
      "Saving  subject_18  Stimulus  14\n",
      "Saving  subject_18  Stimulus  15\n",
      "Saving  subject_r1  Stimulus  0\n",
      "Saving  subject_r1  Stimulus  1\n",
      "Saving  subject_r1  Stimulus  2\n",
      "Saving  subject_r1  Stimulus  3\n",
      "Saving  subject_r1  Stimulus  4\n",
      "Saving  subject_r1  Stimulus  5\n",
      "Saving  subject_r1  Stimulus  6\n",
      "Saving  subject_r1  Stimulus  7\n",
      "Saving  subject_r1  Stimulus  8\n",
      "Saving  subject_r1  Stimulus  9\n",
      "Saving  subject_r1  Stimulus  10\n",
      "Saving  subject_r1  Stimulus  11\n",
      "Saving  subject_r1  Stimulus  12\n",
      "Saving  subject_r1  Stimulus  13\n",
      "Saving  subject_r1  Stimulus  14\n",
      "Saving  subject_r1  Stimulus  15\n",
      "Saving  subject_r1  Stimulus  16\n",
      "Saving  subject_r1  Stimulus  17\n",
      "Saving  subject_r1  Stimulus  18\n",
      "Saving  subject_r1  Stimulus  19\n",
      "Saving  subject_r1  Stimulus  20\n",
      "Saving  subject_r1  Stimulus  21\n",
      "Saving  subject_r1  Stimulus  22\n",
      "Saving  subject_r1  Stimulus  23\n",
      "Saving  subject_r2  Stimulus  0\n",
      "Saving  subject_r2  Stimulus  1\n",
      "Saving  subject_r2  Stimulus  2\n",
      "Saving  subject_r2  Stimulus  3\n",
      "Saving  subject_r2  Stimulus  4\n",
      "Saving  subject_r2  Stimulus  5\n",
      "Saving  subject_r2  Stimulus  6\n",
      "Saving  subject_r2  Stimulus  7\n",
      "Saving  subject_r2  Stimulus  8\n",
      "Saving  subject_r2  Stimulus  9\n",
      "Saving  subject_r2  Stimulus  10\n",
      "Saving  subject_r2  Stimulus  11\n",
      "Saving  subject_r2  Stimulus  12\n",
      "Saving  subject_r2  Stimulus  13\n",
      "Saving  subject_r2  Stimulus  14\n",
      "Saving  subject_r2  Stimulus  15\n",
      "Saving  subject_r2  Stimulus  16\n",
      "Saving  subject_r2  Stimulus  17\n",
      "Saving  subject_r2  Stimulus  18\n",
      "Saving  subject_r2  Stimulus  19\n",
      "Saving  subject_r2  Stimulus  20\n",
      "Saving  subject_r2  Stimulus  21\n",
      "Saving  subject_r2  Stimulus  22\n",
      "Saving  subject_r2  Stimulus  23\n",
      "Finished  21:32:52.964445\n"
     ]
    }
   ],
   "source": [
    "starting_run()\n",
    "for row in data_raw_pickled_df.copy().itertuples():\n",
    "    timeseries, stimulus_timeseries, stimulus_values = load_subject_data(row.rel_path)\n",
    "    df_full = create_data_df(timeseries, stimulus_timeseries)\n",
    "    for stimulus in stimulus_values:\n",
    "        stim_data = extract_stimulus_data(df_full, stimulus)\n",
    "        save_stim_data(row.subject, stimulus, stim_data, data_raw_pickled_df)\n",
    "finished_run()"
   ]
  },
  {
   "cell_type": "code",
   "execution_count": 8,
   "metadata": {},
   "outputs": [],
   "source": [
    "pickle_file('data_meta_pickled/data_raw_pickled_df.pickle', data_raw_pickled_df)"
   ]
  }
 ],
 "metadata": {
  "kernelspec": {
   "display_name": "Python 3",
   "language": "python",
   "name": "python3"
  },
  "language_info": {
   "codemirror_mode": {
    "name": "ipython",
    "version": 3
   },
   "file_extension": ".py",
   "mimetype": "text/x-python",
   "name": "python",
   "nbconvert_exporter": "python",
   "pygments_lexer": "ipython3",
   "version": "3.6.9"
  }
 },
 "nbformat": 4,
 "nbformat_minor": 2
}
