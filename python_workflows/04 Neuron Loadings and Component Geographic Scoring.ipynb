{
 "cells": [
  {
   "cell_type": "markdown",
   "metadata": {},
   "source": [
    "## Analyze Neuron Loadings - Geographical Distributions\n",
    "This workflow will analyze the loadings of each neuron on all components and create visualizations thereof to better understand the components being worked with for each fish. Then, neurons with loadings on components will be binned and a ratios of components for each bin will be analyzed."
   ]
  },
  {
   "cell_type": "code",
   "execution_count": 1,
   "metadata": {},
   "outputs": [],
   "source": [
    "import matplotlib.pyplot as plt\n",
    "from mpl_toolkits.mplot3d import Axes3D\n",
    "from matplotlib.patches import Patch\n",
    "import numpy as np\n",
    "import pandas as pd\n",
    "import math\n",
    "from util_functions import list_subjects, load_file, pickle_file, starting_run, finished_run"
   ]
  },
  {
   "cell_type": "markdown",
   "metadata": {},
   "source": [
    "### Notebook Parameters"
   ]
  },
  {
   "cell_type": "code",
   "execution_count": 2,
   "metadata": {},
   "outputs": [],
   "source": [
    "model_df = load_file('data_meta_pickled/pca_models_pickled_df.pickle')\n",
    "subject_coord_dict = {}\n",
    "plotting_list = []\n",
    "neuron_xyz_dir = 'data_raw_pickled/'\n",
    "minimum_neuron_count_in_bin = 50\n",
    "num_bins = {'x': 40, 'y':20, 'z':2}\n",
    "color_map = ['blue','red','green','orange','pink','black','brown','yellow','grey','purple']\n",
    "legend_data=[Patch(facecolor=color_map[index], edgecolor='black',label='Component '+ str(index)) for index in range(0,len(color_map))]"
   ]
  },
  {
   "cell_type": "markdown",
   "metadata": {},
   "source": [
    "### Notebook Functions"
   ]
  },
  {
   "cell_type": "markdown",
   "metadata": {},
   "source": [
    "#### Data Manipulation Functions"
   ]
  },
  {
   "cell_type": "code",
   "execution_count": 3,
   "metadata": {},
   "outputs": [],
   "source": [
    "def calc_component_loadings(model):\n",
    "    dataset = np.absolute(model.components_)\n",
    "    neuron_sums = dataset.sum(axis=0, keepdims=True)\n",
    "    return pd.DataFrame(dataset / neuron_sums).transpose()"
   ]
  },
  {
   "cell_type": "code",
   "execution_count": 4,
   "metadata": {},
   "outputs": [],
   "source": [
    "def normalize_subject_coordinates(subject_coords):\n",
    "    norm_coord_df = pd.DataFrame(index=range(0,subject_coords.shape[0]))\n",
    "    for axis in num_bins:\n",
    "        n_bins = num_bins[axis]\n",
    "        axis_data = subject_coords[[axis]]\n",
    "        data_min = axis_data.min()\n",
    "        data_max = axis_data.max()\n",
    "        data_step_size = (data_max - data_min)/n_bins\n",
    "        norm_coord_df[axis]=axis_data.div(data_step_size)\n",
    "    return norm_coord_df"
   ]
  },
  {
   "cell_type": "code",
   "execution_count": 5,
   "metadata": {},
   "outputs": [],
   "source": [
    "def bin_coords(norm_coords):\n",
    "    norm_coords['bin'] = norm_coords['x'].apply('ceil').add(norm_coords['y'].apply('ceil').mul(num_bins['x']).add(norm_coords['z'].apply('ceil').mul(num_bins['x']).mul(num_bins['y'])))"
   ]
  },
  {
   "cell_type": "code",
   "execution_count": 6,
   "metadata": {},
   "outputs": [],
   "source": [
    "def calc_bin_scores(bin_labels, loadings):\n",
    "    loadings['bin'] = bin_labels\n",
    "    bins = loadings.groupby(['bin'])\n",
    "    bin_neuron_counts = bins.count()[0]\n",
    "    bin_scores = bins.sum()\n",
    "    valid_bin_scores = bin_scores[bin_neuron_counts > minimum_neuron_count_in_bin]\n",
    "    return valid_bin_scores.div(valid_bin_scores.sum(axis=1), axis=0) #bin scores normalized by row"
   ]
  },
  {
   "cell_type": "markdown",
   "metadata": {},
   "source": [
    "#### Plotting Functions"
   ]
  },
  {
   "cell_type": "code",
   "execution_count": 7,
   "metadata": {},
   "outputs": [],
   "source": [
    "def plot_zebrafish(x,y,z,colors,title,fig,subplot_num):\n",
    "    ax = fig.add_subplot(13,1,subplot_num, projection='3d')\n",
    "    ax.scatter(x, y, z, c=colors, s=.1)\n",
    "    ax.set_xlim3d(0,2000)\n",
    "    ax.set_ylim3d(0,1500)\n",
    "    ax.set_zlim3d(0,250)\n",
    "    ax.view_init(elev=70, azim=135)\n",
    "    ax.legend(handles=legend_data, loc='upper left')\n",
    "    ax.set_title(title)\n",
    "    return fig"
   ]
  },
  {
   "cell_type": "code",
   "execution_count": 8,
   "metadata": {},
   "outputs": [],
   "source": [
    "def plot_neuron_loadings(x,y,z,loadings,subject,stimulus,fig):\n",
    "    loading_colors = loadings.iloc[:, 0:10].apply(np.argmax,axis=1).apply(lambda comp: color_map[comp])\n",
    "    title = 'Mapping of Zebrafish Neuron Component Loadings in ' + subject + (' stimulus_' + stimulus if stimulus != None else ' Across All Stimuli')\n",
    "    return plot_zebrafish(x,y,z,loading_colors,title,fig,1)"
   ]
  },
  {
   "cell_type": "code",
   "execution_count": 9,
   "metadata": {},
   "outputs": [],
   "source": [
    "def plot_bin_loadings(x,y,z,bins,bin_scores,subject,stimulus,fig):\n",
    "    bins_main_component = bin_scores.apply(np.argmax,axis=1)\n",
    "    loading_colors=bins.map(bins_main_component)\n",
    "    title = 'Mapping of Zebrafish Neuron Bin Loadings in ' + subject + (' stimulus_' + stimulus if stimulus != None else ' Across All Stimuli')\n",
    "    return plot_zebrafish(x,y,z,loading_colors,title,fig,2)"
   ]
  },
  {
   "cell_type": "code",
   "execution_count": 10,
   "metadata": {},
   "outputs": [],
   "source": [
    "def plot_components(component_fxns, subject, stimulus, fig):\n",
    "    component_functions = component_fxns.T\n",
    "    \n",
    "    #Plotting Aggregate Figure\n",
    "    agg_ax = fig.add_subplot(13,1,3)\n",
    "    for component_index in range(0,component_fxns.T.shape[0]):\n",
    "        component = component_functions[component_index]\n",
    "        agg_ax.plot(component, c=color_map[component_index])\n",
    "    agg_ax.set_xlabel('Timepoint')\n",
    "    agg_ax.set_ylabel('Component Value')\n",
    "    agg_ax.set_title('Aggregate Plot of All Component Values over Stimulus Time for ' + subject + (' stimulus_' + stimulus if stimulus != None else ' Across All Stimuli'))\n",
    "    \n",
    "    #Plotting individual Figures\n",
    "    for component_index in range(0,component_fxns.T.shape[0]):\n",
    "        ax = fig.add_subplot(13,1,4+component_index)\n",
    "        component = component_functions[component_index]\n",
    "        ax.plot(component, c=color_map[component_index])\n",
    "        ax.set_xlabel('Timepoint')\n",
    "        ax.set_ylabel('Component Value')\n",
    "        ax.set_title('Component ' +str(component_index) + ' Values over Stimulus Time for ' + subject + (' stimulus_' + stimulus if stimulus != None else ' Across All Stimuli'))\n",
    "    return fig"
   ]
  },
  {
   "cell_type": "markdown",
   "metadata": {},
   "source": [
    "### Main Code Execution"
   ]
  },
  {
   "cell_type": "code",
   "execution_count": 11,
   "metadata": {},
   "outputs": [
    {
     "name": "stdout",
     "output_type": "stream",
     "text": [
      "Starting Computations 19:13:42.599407\n"
     ]
    }
   ],
   "source": [
    "#Populate subject_coord_dict\n",
    "starting_run('Computations')\n",
    "for subject in list_subjects():\n",
    "    subject_coords = pd.DataFrame(load_file(neuron_xyz_dir + subject + '_mat_dict.pickle')['cell_XYZ'], columns=['x','y','z'])\n",
    "    # normalize coordinates\n",
    "    norm_coords = normalize_subject_coordinates(subject_coords)\n",
    "    bin_coords(norm_coords)\n",
    "    #assign bins to each coordinate\n",
    "    subject_coord_dict[subject] = {\n",
    "        'xyz': subject_coords,\n",
    "        'xyz_norm': norm_coords[['x','y','z']],\n",
    "        'bin_labels': norm_coords[['bin']]\n",
    "    }"
   ]
  },
  {
   "cell_type": "code",
   "execution_count": 12,
   "metadata": {
    "scrolled": true
   },
   "outputs": [
    {
     "name": "stdout",
     "output_type": "stream",
     "text": [
      "Finished Computations 19:15:03.188186\n"
     ]
    }
   ],
   "source": [
    "for row in model_df.itertuples():\n",
    "    model = load_file(row.model_path)\n",
    "    loadings = calc_component_loadings(model)\n",
    "    bin_labels = subject_coord_dict[row.subject]['bin_labels'][:loadings.shape[0]].loc[:, 'bin']\n",
    "    bin_scores = calc_bin_scores(bin_labels, loadings)\n",
    "    plotting_list.append({\n",
    "        'subject': row.subject,\n",
    "        'stimulus': row.stimulus,\n",
    "        'x': subject_coord_dict[row.subject]['xyz'][['x']][:loadings.shape[0]],\n",
    "        'y': subject_coord_dict[row.subject]['xyz'][['y']][:loadings.shape[0]],\n",
    "        'z': subject_coord_dict[row.subject]['xyz'][['z']][:loadings.shape[0]],\n",
    "        'loadings': loadings,\n",
    "        'bins': bin_labels,\n",
    "        'bin_scores': bin_scores,\n",
    "        'component_fxns': model.transform(load_file(row.orig_data_path)),\n",
    "        'save_path': 'figures/'+str(row.subject)+('_stimulus_' + row.stimulus if row.stimulus != None else '')+'_component_loading_plots.PNG'\n",
    "    })\n",
    "pickle_file('data_synthesized_pickled/geo_plotting_data.pickle', plotting_list)\n",
    "finished_run('Computations')"
   ]
  },
  {
   "cell_type": "markdown",
   "metadata": {},
   "source": [
    "### Figures\n",
    "Figures below are organized as a specific set of figures repeated serially for each subject-stimulus pair:\n",
    "##### Figure 1. Loadings of Components on Individual Neurons\n",
    "Each point plotted corresponds to a neuron, located at the X, Y, and Z coordinates provided in original data. The plotted dataset creates a visualization of the fish facing leftwards into the page. Each neuron is colored based on the component on which it loads most heavily over the observed time-period. **Note that colors assigned to components remain constant throughout these figures**\n",
    "##### Figure 2. Loadings of Components on Standardized Neuron Bins\n",
    "Here each neuron is plotted according to the X, Y, and Z values given for it, but is colored according to the component loaded most heavily for its particular bin. Bins containing less than 50 neurons were not included in further analyses, and neurons corresponding to those bins are not shown in this figure.\n",
    "##### Figure 3. Aggregate Graph of Component Functions\n",
    "A graph of the values predicted by each component at each timepoint during the observed time period. These component \"functions\" are all placed on the same graph for comparison of their values over time relative to one another.\n",
    "##### Figures 4 -> 13. Individual Graphs of Component Functions\n",
    "Each component's predicted values over the timeseries are plotted individually."
   ]
  },
  {
   "cell_type": "code",
   "execution_count": 14,
   "metadata": {
    "scrolled": true
   },
   "outputs": [],
   "source": [
    "for plot_dict in plotting_list:\n",
    "    fig = plt.figure(figsize=(20, 50))\n",
    "    fig = plot_neuron_loadings(\n",
    "        plot_dict['x'],\n",
    "        plot_dict['y'],\n",
    "        plot_dict['z'],\n",
    "        plot_dict['loadings'],\n",
    "        plot_dict['subject'],\n",
    "        plot_dict['stimulus'],\n",
    "        fig\n",
    "    )\n",
    "    fig = plot_bin_loadings(\n",
    "        plot_dict['x'],\n",
    "        plot_dict['y'],\n",
    "        plot_dict['z'],\n",
    "        plot_dict['bins'],\n",
    "        plot_dict['bin_scores'],\n",
    "        plot_dict['subject'],\n",
    "        plot_dict['stimulus'],\n",
    "        fig\n",
    "    )\n",
    "    fig = plot_components(\n",
    "        plot_dict['component_fxns'],\n",
    "        plot_dict['subject'],\n",
    "        plot_dict['stimulus'],\n",
    "        fig\n",
    "    )\n",
    "    fig.tight_layout()\n",
    "    plt.savefig('../data/' + plot_dict['save_path'])\n",
    "    plt.close()"
   ]
  }
 ],
 "metadata": {
  "kernelspec": {
   "display_name": "Python 3",
   "language": "python",
   "name": "python3"
  },
  "language_info": {
   "codemirror_mode": {
    "name": "ipython",
    "version": 3
   },
   "file_extension": ".py",
   "mimetype": "text/x-python",
   "name": "python",
   "nbconvert_exporter": "python",
   "pygments_lexer": "ipython3",
   "version": "3.7.6"
  }
 },
 "nbformat": 4,
 "nbformat_minor": 2
}
