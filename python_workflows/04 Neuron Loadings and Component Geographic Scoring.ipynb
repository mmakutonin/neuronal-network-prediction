{
 "cells": [
  {
   "cell_type": "markdown",
   "metadata": {},
   "source": [
    "## Analyze Neuron Loadings - Geographical Distributions\n",
    "This workflow will analyze the loadings of each neuron on all components and create visualizations thereof to better understand the components being worked with for each fish. Then, neurons with loadings on components will be binned and a ratios of components for each bin will be analyzed."
   ]
  },
  {
   "cell_type": "code",
   "execution_count": 1,
   "metadata": {},
   "outputs": [],
   "source": [
    "import matplotlib.pyplot as plt\n",
    "from mpl_toolkits.mplot3d import Axes3D\n",
    "from matplotlib.patches import Patch\n",
    "import numpy as np\n",
    "import pandas as pd\n",
    "import math\n",
    "from sklearn import preprocessing\n",
    "from util_functions import list_subjects, load_file, pickle_file, starting_run, finished_run"
   ]
  },
  {
   "cell_type": "markdown",
   "metadata": {},
   "source": [
    "### Notebook Parameters"
   ]
  },
  {
   "cell_type": "code",
   "execution_count": 2,
   "metadata": {},
   "outputs": [],
   "source": [
    "model_df = load_file('data_meta_pickled/pca_models_pickled_df.pickle')\n",
    "subject_coord_dict = {}\n",
    "plotting_list = []\n",
    "neuron_xyz_dir = 'data_raw_pickled/'\n",
    "minimum_neuron_count_in_bin = 50\n",
    "num_bins = {'x': 40, 'y':20, 'z':2}\n",
    "color_map = ['blue','red','green','orange','pink','black','brown','yellow','grey','purple']\n",
    "legend_data=[Patch(facecolor=color_map[index], edgecolor='black',label='Component '+ str(index)) for index in range(0,len(color_map))]"
   ]
  },
  {
   "cell_type": "markdown",
   "metadata": {},
   "source": [
    "### Notebook Functions"
   ]
  },
  {
   "cell_type": "markdown",
   "metadata": {},
   "source": [
    "#### Data Manipulation Functions"
   ]
  },
  {
   "cell_type": "code",
   "execution_count": 3,
   "metadata": {},
   "outputs": [],
   "source": [
    "def calc_component_loadings(model):\n",
    "    #Note that we take the absolute value of all eigenvalues. This is because we want\n",
    "    #to capture the relationship between components and neurons, not necessarily the\n",
    "    #direction of that relationship.\n",
    "    dataset = np.absolute(model.components_)\n",
    "    neuron_sums = dataset.sum(axis=0, keepdims=True)\n",
    "    return pd.DataFrame(dataset / neuron_sums).transpose()"
   ]
  },
  {
   "cell_type": "code",
   "execution_count": 4,
   "metadata": {},
   "outputs": [],
   "source": [
    "def normalize_subject_coordinates(subject_coords):\n",
    "    norm_coord_df = pd.DataFrame(index=range(0,subject_coords.shape[0]))\n",
    "    for axis in num_bins:\n",
    "        n_bins = num_bins[axis]\n",
    "        axis_data = subject_coords[[axis]]\n",
    "        data_min = axis_data.min()\n",
    "        data_max = axis_data.max()\n",
    "        data_step_size = (data_max - data_min)/n_bins\n",
    "        norm_coord_df[axis]=axis_data.div(data_step_size)\n",
    "    return norm_coord_df"
   ]
  },
  {
   "cell_type": "code",
   "execution_count": 5,
   "metadata": {},
   "outputs": [],
   "source": [
    "def bin_coords(norm_coords):\n",
    "    norm_coords['bin'] = norm_coords['x'].apply('ceil').add(norm_coords['y'].apply('ceil').mul(num_bins['x']).add(norm_coords['z'].apply('ceil').mul(num_bins['x']).mul(num_bins['y'])))"
   ]
  },
  {
   "cell_type": "code",
   "execution_count": 6,
   "metadata": {},
   "outputs": [],
   "source": [
    "def calc_bin_scores(bin_labels, loadings):\n",
    "    loadings['bin'] = bin_labels\n",
    "    bins = loadings.groupby(['bin'])\n",
    "    bin_neuron_counts = bins.count()[0]\n",
    "    bin_scores = bins.sum()\n",
    "    valid_bin_scores = bin_scores[bin_neuron_counts > minimum_neuron_count_in_bin]\n",
    "    return pd.DataFrame(preprocessing.StandardScaler().fit_transform(valid_bin_scores)).set_index(valid_bin_scores.index)"
   ]
  },
  {
   "cell_type": "markdown",
   "metadata": {},
   "source": [
    "#### Plotting Functions"
   ]
  },
  {
   "cell_type": "code",
   "execution_count": 7,
   "metadata": {},
   "outputs": [],
   "source": [
    "def plot_zebrafish(x,y,z,colors,title,fig,subplot_num):\n",
    "    ax = fig.add_subplot(13,1,subplot_num, projection='3d')\n",
    "    ax.scatter(x, y, z, c=colors, s=.1)\n",
    "    ax.set_xlim3d(0,2000)\n",
    "    ax.set_ylim3d(0,1500)\n",
    "    ax.set_zlim3d(0,250)\n",
    "    ax.view_init(elev=70, azim=135)\n",
    "    ax.legend(handles=legend_data, loc='upper left')\n",
    "    ax.set_title(title)\n",
    "    return fig"
   ]
  },
  {
   "cell_type": "code",
   "execution_count": 8,
   "metadata": {},
   "outputs": [],
   "source": [
    "def plot_neuron_loadings(x,y,z,loadings,subject,stimulus,fig):\n",
    "    loading_colors = loadings.iloc[:, 0:10].apply(np.argmax,axis=1).apply(lambda comp: color_map[comp])\n",
    "    title = 'Mapping of Zebrafish Neuron Component Loadings in ' + subject + (' stimulus_' + stimulus if stimulus != None else ' Across All Stimuli')\n",
    "    return plot_zebrafish(x,y,z,loading_colors,title,fig,1)"
   ]
  },
  {
   "cell_type": "code",
   "execution_count": 9,
   "metadata": {},
   "outputs": [],
   "source": [
    "def plot_bin_loadings(x,y,z,bins,bin_scores,subject,stimulus,fig):\n",
    "    bins_main_component = bin_scores.apply(np.argmax,axis=1)\n",
    "    loading_colors=bins.map(bins_main_component)\n",
    "    title = 'Mapping of Zebrafish Neuron Bin Loadings in ' + subject + (' stimulus_' + stimulus if stimulus != None else ' Across All Stimuli')\n",
    "    return plot_zebrafish(x,y,z,loading_colors,title,fig,2)"
   ]
  },
  {
   "cell_type": "code",
   "execution_count": 10,
   "metadata": {},
   "outputs": [],
   "source": [
    "def plot_components(component_fxns, subject, stimulus, fig):\n",
    "    component_functions = component_fxns.T\n",
    "    \n",
    "    #Plotting Aggregate Figure\n",
    "    agg_ax = fig.add_subplot(13,1,3)\n",
    "    for component_index in range(0,component_fxns.T.shape[0]):\n",
    "        component = component_functions[component_index]\n",
    "        agg_ax.plot(component, c=color_map[component_index])\n",
    "    agg_ax.set_xlabel('Timepoint')\n",
    "    agg_ax.set_ylabel('Component Value')\n",
    "    agg_ax.set_title('Aggregate Plot of All Component Values over Stimulus Time for ' + subject + (' stimulus_' + stimulus if stimulus != None else ' Across All Stimuli'))\n",
    "    \n",
    "    #Plotting individual Figures\n",
    "    for component_index in range(0,component_fxns.T.shape[0]):\n",
    "        ax = fig.add_subplot(13,1,4+component_index)\n",
    "        component = component_functions[component_index]\n",
    "        ax.plot(component, c=color_map[component_index])\n",
    "        ax.set_xlabel('Timepoint')\n",
    "        ax.set_ylabel('Component Value')\n",
    "        ax.set_title('Component ' +str(component_index) + ' Values over Stimulus Time for ' + subject + (' stimulus_' + stimulus if stimulus != None else ' Across All Stimuli'))\n",
    "    return fig"
   ]
  },
  {
   "cell_type": "markdown",
   "metadata": {},
   "source": [
    "### Main Code Execution"
   ]
  },
  {
   "cell_type": "code",
   "execution_count": 11,
   "metadata": {},
   "outputs": [
    {
     "name": "stdout",
     "output_type": "stream",
     "text": [
      "Starting Computations 19:30:19.656533\n"
     ]
    }
   ],
   "source": [
    "#Populate subject_coord_dict\n",
    "starting_run('Computations')\n",
    "for subject in list_subjects():\n",
    "    subject_coords = pd.DataFrame(load_file(neuron_xyz_dir + subject + '_mat_dict.pickle')['cell_XYZ'], columns=['x','y','z'])\n",
    "    # normalize coordinates\n",
    "    norm_coords = normalize_subject_coordinates(subject_coords)\n",
    "    bin_coords(norm_coords)\n",
    "    #assign bins to each coordinate\n",
    "    subject_coord_dict[subject] = {\n",
    "        'xyz': subject_coords,\n",
    "        'xyz_norm': norm_coords[['x','y','z']],\n",
    "        'bin_labels': norm_coords[['bin']]\n",
    "    }"
   ]
  },
  {
   "cell_type": "code",
   "execution_count": 12,
   "metadata": {
    "scrolled": true
   },
   "outputs": [
    {
     "name": "stdout",
     "output_type": "stream",
     "text": [
      "Finished Computations 19:31:42.452432\n"
     ]
    }
   ],
   "source": [
    "bin_scores = []\n",
    "for row in model_df.itertuples():\n",
    "    model = load_file(row.model_path)\n",
    "    loadings = calc_component_loadings(model)\n",
    "    bin_labels = subject_coord_dict[row.subject]['bin_labels'][:loadings.shape[0]].loc[:, 'bin']\n",
    "    bin_scores = calc_bin_scores(bin_labels, loadings)\n",
    "    plotting_list.append({\n",
    "        'subject': row.subject,\n",
    "        'stimulus': row.stimulus,\n",
    "        'x': subject_coord_dict[row.subject]['xyz'][['x']][:loadings.shape[0]],\n",
    "        'y': subject_coord_dict[row.subject]['xyz'][['y']][:loadings.shape[0]],\n",
    "        'z': subject_coord_dict[row.subject]['xyz'][['z']][:loadings.shape[0]],\n",
    "        'loadings': loadings,\n",
    "        'bins': bin_labels,\n",
    "        'bin_scores': bin_scores,\n",
    "        'component_fxns': model.transform(load_file(row.orig_data_path)),\n",
    "        'save_path': 'figures/'+str(row.subject)+('_stimulus_' + row.stimulus if row.stimulus != None else '')+'_component_loading_plots.PNG'\n",
    "    })\n",
    "pickle_file('data_synthesized_pickled/geo_plotting_data.pickle', plotting_list)\n",
    "finished_run('Computations')"
   ]
  },
  {
   "cell_type": "code",
   "execution_count": 24,
   "metadata": {},
   "outputs": [
    {
     "data": {
      "text/html": [
       "<div>\n",
       "<style scoped>\n",
       "    .dataframe tbody tr th:only-of-type {\n",
       "        vertical-align: middle;\n",
       "    }\n",
       "\n",
       "    .dataframe tbody tr th {\n",
       "        vertical-align: top;\n",
       "    }\n",
       "\n",
       "    .dataframe thead th {\n",
       "        text-align: right;\n",
       "    }\n",
       "</style>\n",
       "<table border=\"1\" class=\"dataframe\">\n",
       "  <thead>\n",
       "    <tr style=\"text-align: right;\">\n",
       "      <th></th>\n",
       "      <th>0</th>\n",
       "      <th>1</th>\n",
       "      <th>2</th>\n",
       "      <th>3</th>\n",
       "      <th>4</th>\n",
       "      <th>5</th>\n",
       "      <th>6</th>\n",
       "      <th>7</th>\n",
       "      <th>8</th>\n",
       "      <th>9</th>\n",
       "    </tr>\n",
       "    <tr>\n",
       "      <th>bin</th>\n",
       "      <th></th>\n",
       "      <th></th>\n",
       "      <th></th>\n",
       "      <th></th>\n",
       "      <th></th>\n",
       "      <th></th>\n",
       "      <th></th>\n",
       "      <th></th>\n",
       "      <th></th>\n",
       "      <th></th>\n",
       "    </tr>\n",
       "  </thead>\n",
       "  <tbody>\n",
       "    <tr>\n",
       "      <th>859.0</th>\n",
       "      <td>-1.225337</td>\n",
       "      <td>-1.686673</td>\n",
       "      <td>-1.670435</td>\n",
       "      <td>-1.749318</td>\n",
       "      <td>-1.278705</td>\n",
       "      <td>-1.600191</td>\n",
       "      <td>-1.347184</td>\n",
       "      <td>-1.499326</td>\n",
       "      <td>-1.261266</td>\n",
       "      <td>-0.736511</td>\n",
       "    </tr>\n",
       "    <tr>\n",
       "      <th>860.0</th>\n",
       "      <td>0.068027</td>\n",
       "      <td>-0.461696</td>\n",
       "      <td>-0.593528</td>\n",
       "      <td>0.177862</td>\n",
       "      <td>-0.237793</td>\n",
       "      <td>-0.735562</td>\n",
       "      <td>1.093486</td>\n",
       "      <td>-0.219474</td>\n",
       "      <td>0.342483</td>\n",
       "      <td>1.340553</td>\n",
       "    </tr>\n",
       "    <tr>\n",
       "      <th>861.0</th>\n",
       "      <td>0.819674</td>\n",
       "      <td>0.046434</td>\n",
       "      <td>-0.152355</td>\n",
       "      <td>0.447555</td>\n",
       "      <td>0.329137</td>\n",
       "      <td>-0.009518</td>\n",
       "      <td>1.458340</td>\n",
       "      <td>0.451164</td>\n",
       "      <td>1.015309</td>\n",
       "      <td>2.387946</td>\n",
       "    </tr>\n",
       "    <tr>\n",
       "      <th>862.0</th>\n",
       "      <td>0.377580</td>\n",
       "      <td>0.085747</td>\n",
       "      <td>-0.423961</td>\n",
       "      <td>0.688114</td>\n",
       "      <td>0.030047</td>\n",
       "      <td>-0.043670</td>\n",
       "      <td>0.823522</td>\n",
       "      <td>-0.314502</td>\n",
       "      <td>0.723282</td>\n",
       "      <td>1.427799</td>\n",
       "    </tr>\n",
       "    <tr>\n",
       "      <th>863.0</th>\n",
       "      <td>-1.060103</td>\n",
       "      <td>-1.801966</td>\n",
       "      <td>-1.483616</td>\n",
       "      <td>-1.427408</td>\n",
       "      <td>-1.158318</td>\n",
       "      <td>-1.752293</td>\n",
       "      <td>-1.157734</td>\n",
       "      <td>-1.530487</td>\n",
       "      <td>-1.353661</td>\n",
       "      <td>-0.917071</td>\n",
       "    </tr>\n",
       "    <tr>\n",
       "      <th>...</th>\n",
       "      <td>...</td>\n",
       "      <td>...</td>\n",
       "      <td>...</td>\n",
       "      <td>...</td>\n",
       "      <td>...</td>\n",
       "      <td>...</td>\n",
       "      <td>...</td>\n",
       "      <td>...</td>\n",
       "      <td>...</td>\n",
       "      <td>...</td>\n",
       "    </tr>\n",
       "    <tr>\n",
       "      <th>2345.0</th>\n",
       "      <td>-0.835749</td>\n",
       "      <td>-1.033544</td>\n",
       "      <td>-0.937831</td>\n",
       "      <td>-0.676775</td>\n",
       "      <td>-0.786645</td>\n",
       "      <td>-0.542524</td>\n",
       "      <td>-1.095558</td>\n",
       "      <td>-0.807885</td>\n",
       "      <td>-1.081916</td>\n",
       "      <td>-0.843764</td>\n",
       "    </tr>\n",
       "    <tr>\n",
       "      <th>2346.0</th>\n",
       "      <td>-0.793740</td>\n",
       "      <td>-1.005180</td>\n",
       "      <td>-0.504489</td>\n",
       "      <td>-0.316411</td>\n",
       "      <td>-0.633489</td>\n",
       "      <td>-0.749396</td>\n",
       "      <td>-1.046807</td>\n",
       "      <td>-0.868710</td>\n",
       "      <td>-0.454954</td>\n",
       "      <td>-0.580370</td>\n",
       "    </tr>\n",
       "    <tr>\n",
       "      <th>2382.0</th>\n",
       "      <td>-0.978108</td>\n",
       "      <td>-1.013960</td>\n",
       "      <td>-0.564578</td>\n",
       "      <td>-0.917332</td>\n",
       "      <td>-0.666027</td>\n",
       "      <td>-0.879910</td>\n",
       "      <td>-1.096505</td>\n",
       "      <td>-0.982513</td>\n",
       "      <td>-0.695547</td>\n",
       "      <td>-0.838296</td>\n",
       "    </tr>\n",
       "    <tr>\n",
       "      <th>2383.0</th>\n",
       "      <td>-0.283861</td>\n",
       "      <td>0.055718</td>\n",
       "      <td>0.851395</td>\n",
       "      <td>1.034270</td>\n",
       "      <td>0.698694</td>\n",
       "      <td>-0.082625</td>\n",
       "      <td>-0.191481</td>\n",
       "      <td>-0.568307</td>\n",
       "      <td>0.442090</td>\n",
       "      <td>0.094276</td>\n",
       "    </tr>\n",
       "    <tr>\n",
       "      <th>2384.0</th>\n",
       "      <td>-1.202489</td>\n",
       "      <td>-1.317134</td>\n",
       "      <td>-1.146344</td>\n",
       "      <td>-1.159900</td>\n",
       "      <td>-1.241890</td>\n",
       "      <td>-1.072693</td>\n",
       "      <td>-1.216785</td>\n",
       "      <td>-1.424652</td>\n",
       "      <td>-1.370031</td>\n",
       "      <td>-1.201868</td>\n",
       "    </tr>\n",
       "  </tbody>\n",
       "</table>\n",
       "<p>630 rows × 10 columns</p>\n",
       "</div>"
      ],
      "text/plain": [
       "               0         1         2         3         4         5         6  \\\n",
       "bin                                                                            \n",
       "859.0  -1.225337 -1.686673 -1.670435 -1.749318 -1.278705 -1.600191 -1.347184   \n",
       "860.0   0.068027 -0.461696 -0.593528  0.177862 -0.237793 -0.735562  1.093486   \n",
       "861.0   0.819674  0.046434 -0.152355  0.447555  0.329137 -0.009518  1.458340   \n",
       "862.0   0.377580  0.085747 -0.423961  0.688114  0.030047 -0.043670  0.823522   \n",
       "863.0  -1.060103 -1.801966 -1.483616 -1.427408 -1.158318 -1.752293 -1.157734   \n",
       "...          ...       ...       ...       ...       ...       ...       ...   \n",
       "2345.0 -0.835749 -1.033544 -0.937831 -0.676775 -0.786645 -0.542524 -1.095558   \n",
       "2346.0 -0.793740 -1.005180 -0.504489 -0.316411 -0.633489 -0.749396 -1.046807   \n",
       "2382.0 -0.978108 -1.013960 -0.564578 -0.917332 -0.666027 -0.879910 -1.096505   \n",
       "2383.0 -0.283861  0.055718  0.851395  1.034270  0.698694 -0.082625 -0.191481   \n",
       "2384.0 -1.202489 -1.317134 -1.146344 -1.159900 -1.241890 -1.072693 -1.216785   \n",
       "\n",
       "               7         8         9  \n",
       "bin                                   \n",
       "859.0  -1.499326 -1.261266 -0.736511  \n",
       "860.0  -0.219474  0.342483  1.340553  \n",
       "861.0   0.451164  1.015309  2.387946  \n",
       "862.0  -0.314502  0.723282  1.427799  \n",
       "863.0  -1.530487 -1.353661 -0.917071  \n",
       "...          ...       ...       ...  \n",
       "2345.0 -0.807885 -1.081916 -0.843764  \n",
       "2346.0 -0.868710 -0.454954 -0.580370  \n",
       "2382.0 -0.982513 -0.695547 -0.838296  \n",
       "2383.0 -0.568307  0.442090  0.094276  \n",
       "2384.0 -1.424652 -1.370031 -1.201868  \n",
       "\n",
       "[630 rows x 10 columns]"
      ]
     },
     "execution_count": 24,
     "metadata": {},
     "output_type": "execute_result"
    }
   ],
   "source": [
    "plotting_list[0]['bin_scores']"
   ]
  },
  {
   "cell_type": "markdown",
   "metadata": {},
   "source": [
    "### Figures\n",
    "Figures below are organized as a specific set of figures repeated serially for each subject-stimulus pair:\n",
    "##### Figure 1. Loadings of Components on Individual Neurons\n",
    "Each point plotted corresponds to a neuron, located at the X, Y, and Z coordinates provided in original data. The plotted dataset creates a visualization of the fish facing leftwards into the page. Each neuron is colored based on the component on which it loads most heavily over the observed time-period. **Note that colors assigned to components remain constant throughout these figures**\n",
    "##### Figure 2. Loadings of Components on Standardized Neuron Bins\n",
    "Here each neuron is plotted according to the X, Y, and Z values given for it, but is colored according to the component loaded most heavily for its particular bin. Bins containing less than 50 neurons were not included in further analyses, and neurons corresponding to those bins are not shown in this figure.\n",
    "##### Figure 3. Aggregate Graph of Component Functions\n",
    "A graph of the values predicted by each component at each timepoint during the observed time period. These component \"functions\" are all placed on the same graph for comparison of their values over time relative to one another.\n",
    "##### Figures 4 -> 13. Individual Graphs of Component Functions\n",
    "Each component's predicted values over the timeseries are plotted individually."
   ]
  },
  {
   "cell_type": "code",
   "execution_count": 13,
   "metadata": {
    "scrolled": true
   },
   "outputs": [],
   "source": [
    "for plot_dict in plotting_list:\n",
    "    fig = plt.figure(figsize=(20, 50))\n",
    "    fig = plot_neuron_loadings(\n",
    "        plot_dict['x'],\n",
    "        plot_dict['y'],\n",
    "        plot_dict['z'],\n",
    "        plot_dict['loadings'],\n",
    "        plot_dict['subject'],\n",
    "        plot_dict['stimulus'],\n",
    "        fig\n",
    "    )\n",
    "    fig = plot_bin_loadings(\n",
    "        plot_dict['x'],\n",
    "        plot_dict['y'],\n",
    "        plot_dict['z'],\n",
    "        plot_dict['bins'],\n",
    "        plot_dict['bin_scores'],\n",
    "        plot_dict['subject'],\n",
    "        plot_dict['stimulus'],\n",
    "        fig\n",
    "    )\n",
    "    fig = plot_components(\n",
    "        plot_dict['component_fxns'],\n",
    "        plot_dict['subject'],\n",
    "        plot_dict['stimulus'],\n",
    "        fig\n",
    "    )\n",
    "    fig.tight_layout()\n",
    "    plt.savefig('../data/' + plot_dict['save_path'])\n",
    "    plt.close()"
   ]
  }
 ],
 "metadata": {
  "kernelspec": {
   "display_name": "Python 3",
   "language": "python",
   "name": "python3"
  },
  "language_info": {
   "codemirror_mode": {
    "name": "ipython",
    "version": 3
   },
   "file_extension": ".py",
   "mimetype": "text/x-python",
   "name": "python",
   "nbconvert_exporter": "python",
   "pygments_lexer": "ipython3",
   "version": "3.7.6"
  }
 },
 "nbformat": 4,
 "nbformat_minor": 2
}
